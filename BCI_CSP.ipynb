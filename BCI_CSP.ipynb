{
 "cells": [
  {
   "cell_type": "code",
   "execution_count": 6,
   "metadata": {},
   "outputs": [
    {
     "name": "stdout",
     "output_type": "stream",
     "text": [
      "Requirement already satisfied: mne in /Users/priyanshi_nigam/opt/anaconda3/lib/python3.7/site-packages (0.22.0)\r\n",
      "Requirement already satisfied: numpy>=1.11.3 in /Users/priyanshi_nigam/opt/anaconda3/lib/python3.7/site-packages (from mne) (1.17.2)\r\n",
      "Requirement already satisfied: scipy>=0.17.1 in /Users/priyanshi_nigam/opt/anaconda3/lib/python3.7/site-packages (from mne) (1.3.1)\r\n"
     ]
    }
   ],
   "source": [
    "from __future__ import division\n",
    "import numpy as np\n",
    "import scipy.io as scipy\n",
    "import matplotlib.pyplot as plt\n",
    "!pip install mne\n",
    "import mne\n",
    "from numpy import *\n",
    "from numpy.fft import *\n",
    "import scipy.signal as signal\n",
    "from matplotlib.pyplot import *\n",
    "from sklearn.linear_model import LogisticRegression\n",
    "from sklearn.model_selection import cross_val_score\n",
    "from sklearn.decomposition import PCA\n",
    "import sklearn\n",
    "from mne.decoding import CSP"
   ]
  },
  {
   "cell_type": "code",
   "execution_count": 7,
   "metadata": {},
   "outputs": [],
   "source": [
    "def loadmat(filename):\n",
    "    '''\n",
    "    this function should be called instead of direct spio.loadmat\n",
    "    as it cures the problem of not properly recovering python dictionaries\n",
    "    from mat files. It calls the function check keys to cure all entries\n",
    "    which are still mat-objects\n",
    "    '''\n",
    "    def _check_keys(d):\n",
    "        '''\n",
    "        checks if entries in dictionary are mat-objects. If yes\n",
    "        todict is called to change them to nested dictionaries\n",
    "        '''\n",
    "        for key in d:\n",
    "            if isinstance(d[key], scipy.matlab.mio5_params.mat_struct):\n",
    "                d[key] = _todict(d[key])\n",
    "        return d\n",
    "\n",
    "    def _todict(matobj):\n",
    "        '''\n",
    "        A recursive function which constructs from matobjects nested dictionaries\n",
    "        '''\n",
    "        d = {}\n",
    "        for strg in matobj._fieldnames:\n",
    "            elem = matobj.__dict__[strg]\n",
    "            if isinstance(elem, scipy.matlab.mio5_params.mat_struct):\n",
    "                d[strg] = _todict(elem)\n",
    "            elif isinstance(elem, np.ndarray):\n",
    "                d[strg] = _tolist(elem)\n",
    "            else:\n",
    "                d[strg] = elem\n",
    "        return d\n",
    "\n",
    "    def _tolist(ndarray):\n",
    "        '''\n",
    "        A recursive function which constructs lists from cellarrays\n",
    "        (which are loaded as numpy ndarrays), recursing into the elements\n",
    "        if they contain matobjects.\n",
    "        '''\n",
    "        elem_list = []\n",
    "        for sub_elem in ndarray:\n",
    "            if isinstance(sub_elem, scipy.matlab.mio5_params.mat_struct):\n",
    "                elem_list.append(_todict(sub_elem))\n",
    "            elif isinstance(sub_elem, np.ndarray):\n",
    "                elem_list.append(_tolist(sub_elem))\n",
    "            else:\n",
    "                elem_list.append(sub_elem)\n",
    "        return elem_list\n",
    "    data = scipy.loadmat(filename, struct_as_record=False, squeeze_me=True)\n",
    "    return _check_keys(data)"
   ]
  },
  {
   "cell_type": "code",
   "execution_count": 69,
   "metadata": {},
   "outputs": [
    {
     "name": "stdout",
     "output_type": "stream",
     "text": [
      "All Lifts loaded\n",
      "Series data loaded\n",
      "series_counter:  1\n",
      "Series data loaded\n",
      "series_counter:  2\n",
      "Series data loaded\n",
      "series_counter:  3\n",
      "Series data loaded\n",
      "series_counter:  4\n",
      "Series data loaded\n",
      "series_counter:  5\n",
      "Series data loaded\n",
      "series_counter:  6\n",
      "Series data loaded\n",
      "series_counter:  7\n"
     ]
    }
   ],
   "source": [
    "p2_all = loadmat('P2_AllLifts.mat')\n",
    "print( \"All Lifts loaded\")\n",
    "\n",
    "\n",
    "\n",
    "#these are the series we are looking at for subject 2. Everything except series 1 and 6\n",
    "trials_included=[2, 3, 4, 5, 7, 8, 9] \n",
    "\n",
    "#corresponding row indices in P.AllLifts where each series starts. Index is off by one bc of how python indexes things\n",
    "trialStartIdx = [28, 62, 96, 130, 192, 226, 260]\n",
    "\n",
    "#data structure to hold all EEG trials \n",
    "\n",
    "eeg_grasp_open_closed = []\n",
    "emg_grasp_open_closed = []\n",
    "series_counter = 0\n",
    "trial_counter = 1\n",
    "i = 0\n",
    "for s in trials_included:\n",
    "    # load all the series specified in trials_included\n",
    "    series_filename = 'WS_P2_S{series}.mat'.format(series = s)\n",
    "    p_series = loadmat(series_filename)\n",
    "    print(\"Series data loaded\")\n",
    "    series_counter = series_counter + 1\n",
    "    print(\"series_counter: \", series_counter)\n",
    "\n",
    "    #identifying the starting row index in p.ALLLifts for the first trial of the current series\n",
    "    tStart = trialStartIdx[i]\n",
    "    i += 1\n",
    "    trial_counter = 1\n",
    "    #range for the for loop is 34 values bc there are 34 trials in each series\n",
    "    for trial_num in range(tStart, tStart + 34):\n",
    "        \n",
    "        #retrieving the point in time when both fingers touched object\n",
    "        #index values are one cloumn and one row before target value\n",
    "        tBothDigitTouch = np.array(p2_all['P']['AllLifts'])[trial_num, 14]\n",
    "        \n",
    "        tBothReleased = np.array(p2_all['P']['AllLifts'])[trial_num, 22]\n",
    "        \n",
    "        #converting time points to row indices to be accessed in windowed struct\n",
    "        #500 samples every second, so timepoint should be divided by 0.002\n",
    "        idxCloseEnd = int(tBothDigitTouch // 0.002) + int(0.8//0.002)\n",
    "        idxCloseStart = int(tBothDigitTouch // 0.002)- int(0.8//0.002)\n",
    "        \n",
    "        idxOpenEnd = int(tBothReleased // 0.002)+ int(0.8//0.002)\n",
    "        idxOpenStart = int(tBothReleased // 0.002)- int(0.8//0.002)\n",
    "        \n",
    "        idxCloseEndEMG = int(tBothDigitTouch // 0.0002) + int(0.8//0.0002)\n",
    "        idxCloseStartEMG = int(tBothDigitTouch // 0.0002) - int(0.8//0.0002)\n",
    "        \n",
    "        idxOpenEndEMG = int(tBothReleased // 0.0002) + int(0.8//0.0002)\n",
    "        idxOpenStartEMG = int(tBothReleased // 0.0002) - int(0.8//0.0002)\n",
    "\n",
    "        eeg_trial = np.array(p_series['ws']['win'][0]['eeg'])[idxCloseStart:idxCloseEnd].T\n",
    "        if(eeg_trial.shape[1]== 800):\n",
    "            eeg_grasp_open_closed.append(eeg_trial)\n",
    "        \n",
    "            eeg_trial = np.array(p_series['ws']['win'][0]['eeg'])[idxOpenStart:idxOpenEnd].T \n",
    "            if(eeg_trial.shape[1]== 800):\n",
    "                eeg_grasp_open_closed.append(eeg_trial)\n",
    "        \n",
    "        emg_trial = np.array(p_series['ws']['win'][0]['emg'])[idxCloseStartEMG:idxCloseEndEMG].T \n",
    "        if(emg_trial.shape[1]== 8000):\n",
    "            emg_grasp_open_closed.append(emg_trial)\n",
    "        \n",
    "            emg_trial = np.array(p_series['ws']['win'][0]['emg'])[idxOpenStartEMG:idxOpenEndEMG].T \n",
    "            if(emg_trial.shape[1]== 8000):\n",
    "                emg_grasp_open_closed.append(emg_trial)\n",
    "        #print(\"trial counter: \", trial_counter)\n",
    "        trial_counter = trial_counter +1\n",
    "                \n",
    "                                                            "
   ]
  },
  {
   "cell_type": "code",
   "execution_count": 72,
   "metadata": {},
   "outputs": [],
   "source": [
    "eeg_grasp_open_closed = np.concatenate(eeg_grasp_open_closed, axis=0)\n",
    "emg_grasp_open_closed = np.concatenate(emg_grasp_open_closed, axis=0)"
   ]
  },
  {
   "cell_type": "code",
   "execution_count": 75,
   "metadata": {},
   "outputs": [
    {
     "data": {
      "text/plain": [
       "(14688, 800)"
      ]
     },
     "execution_count": 75,
     "metadata": {},
     "output_type": "execute_result"
    }
   ],
   "source": [
    "eeg_grasp_open_closed.shape"
   ]
  },
  {
   "cell_type": "code",
   "execution_count": 76,
   "metadata": {},
   "outputs": [
    {
     "data": {
      "text/plain": [
       "(1385, 8000)"
      ]
     },
     "execution_count": 76,
     "metadata": {},
     "output_type": "execute_result"
    }
   ],
   "source": [
    "emg_grasp_open_closed.shape"
   ]
  },
  {
   "cell_type": "code",
   "execution_count": 73,
   "metadata": {},
   "outputs": [],
   "source": [
    "# 0 = open, 1 = closed\n",
    "one_zero = []\n",
    "for i in range(0, len(eeg_grasp_open_closed)):\n",
    "    if (i%2 == 0):\n",
    "        one_zero.append(0)\n",
    "    else:\n",
    "        one_zero.append(1)\n",
    "one_zero = np.array(one_zero)\n",
    "    "
   ]
  }
 ],
 "metadata": {
  "kernelspec": {
   "display_name": "Python 3",
   "language": "python",
   "name": "python3"
  },
  "language_info": {
   "codemirror_mode": {
    "name": "ipython",
    "version": 3
   },
   "file_extension": ".py",
   "mimetype": "text/x-python",
   "name": "python",
   "nbconvert_exporter": "python",
   "pygments_lexer": "ipython3",
   "version": "3.7.4"
  }
 },
 "nbformat": 4,
 "nbformat_minor": 2
}
